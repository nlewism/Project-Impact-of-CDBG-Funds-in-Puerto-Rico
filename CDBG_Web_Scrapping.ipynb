{
 "cells": [
  {
   "cell_type": "code",
   "execution_count": 40,
   "id": "309541d3",
   "metadata": {},
   "outputs": [],
   "source": [
    "from selenium import webdriver\n",
    "from selenium.webdriver.common.by import By\n",
    "import time\n",
    "import os\n",
    "import pandas as pd\n",
    "import xlrd\n",
    "pd.set_option('display.max_rows', None)\n",
    "pd.set_option('display.max_columns', None)"
   ]
  },
  {
   "cell_type": "markdown",
   "id": "97a0dc6e",
   "metadata": {},
   "source": [
    "# Creates a list of municipalities to extract data from map."
   ]
  },
  {
   "cell_type": "code",
   "execution_count": 200,
   "id": "8a959698",
   "metadata": {},
   "outputs": [],
   "source": [
    "def municipios_func():\n",
    "    municipios = pd.read_csv('/Users/samielzengotita/Documents/IRONHACK/PROYECT/Real_Estate/PR_Municipios')\n",
    "    municipios = municipios.values.tolist()\n",
    "    flat_list = []\n",
    "    for row in municipios:\n",
    "        flat_list.extend(row)\n",
    "    flat_list.remove('Moca')\n",
    "    #flat_list.remove('Toa Baja')\n",
    "    muni_pr = []\n",
    "    for municipio in flat_list:\n",
    "        muni_pr.append(municipio + ', PR')\n",
    "    return muni_pr"
   ]
  },
  {
   "cell_type": "markdown",
   "id": "611edd92",
   "metadata": {},
   "source": [
    "# Webscraping - Gathering data from map website"
   ]
  },
  {
   "cell_type": "code",
   "execution_count": 201,
   "id": "c6425535",
   "metadata": {},
   "outputs": [],
   "source": [
    "def download_data(municipio):\n",
    "    \n",
    "    site_input = driver.find_element(By.CSS_SELECTOR,'#searchField')\n",
    "    site_input.clear()\n",
    "    site_input.send_keys(municipio)\n",
    "    button = driver.find_element(By.CSS_SELECTOR,'#searchButton')\n",
    "    button.click()\n",
    "    time.sleep(2)\n",
    "    i = 1\n",
    "    while True:\n",
    "        cdbg = driver.find_element(By.CSS_SELECTOR,f'#listOfGranteesFound > option:nth-child({i})')\n",
    "        if 'CDBG' not in cdbg.text:\n",
    "            i+=1\n",
    "            time.sleep(2)\n",
    "        else:\n",
    "            break\n",
    "    cdbg.click()\n",
    "    finish = driver.find_element(By.CSS_SELECTOR,'#idChooseGranteeFinishBtn')\n",
    "    finish.click()\n",
    "    time.sleep(2)\n",
    "    export = driver.find_element(By.CSS_SELECTOR,'#exportBtn')\n",
    "    export.click()\n",
    "    "
   ]
  },
  {
   "cell_type": "markdown",
   "id": "962b899b",
   "metadata": {},
   "source": [
    "# Cleans excel files to create the first dataframe, which is CDBG data."
   ]
  },
  {
   "cell_type": "code",
   "execution_count": 216,
   "id": "30dd8e00",
   "metadata": {},
   "outputs": [],
   "source": [
    "def clean_excel_df1(file):\n",
    "    df_excel_1 = pd.read_excel((file), skiprows=[0,1,2,3,4,5,6,7])\n",
    "    df_excel_1.columns = df_excel_1.columns.fillna('type')\n",
    "    df_excel_1.rename(columns={\"type\": \"2018\"}, inplace=True)\n",
    "    df_excel_1.rename(columns={\"nan.1\": \"2019\"}, inplace=True)\n",
    "    df_excel_1.rename(columns={\"nan.2\": \"2020\"}, inplace=True)\n",
    "    df_excel_1.rename(columns={\"nan.3\": \"2021\"}, inplace=True)\n",
    "    \n",
    "    df_excel_1 = df_excel_1.drop('Unnamed: 1', axis=1)\n",
    "    df_excel_1 = df_excel_1.drop('Unnamed: 2', axis=1)\n",
    "    cleaned_excel_cdbg = df_excel_1.iloc[:1,:]\n",
    "    return cleaned_excel_cdbg"
   ]
  },
  {
   "cell_type": "markdown",
   "id": "a928072d",
   "metadata": {},
   "source": [
    "# Cleans excel files to create the first dataframe, which is the grantees data."
   ]
  },
  {
   "cell_type": "code",
   "execution_count": 229,
   "id": "01d90777",
   "metadata": {},
   "outputs": [],
   "source": [
    "def clean_excel_df2(file):\n",
    "    df_excel_2 = pd.read_excel((file), skiprows=[0,1,2,3,4,5,6,7])\n",
    "    df_excel_2.columns = df_excel_2.columns.fillna('type')\n",
    "    df_excel_2.rename(columns={\"type\": \"2018\"}, inplace=True)\n",
    "    df_excel_2.rename(columns={\"nan.1\": \"2019\"}, inplace=True)\n",
    "    df_excel_2.rename(columns={\"nan.2\": \"2020\"}, inplace=True)\n",
    "    df_excel_2.rename(columns={\"nan.3\": \"2021\"}, inplace=True)\n",
    "    \n",
    "    df_excel_2 = df_excel_2.drop('Unnamed: 1', axis=1)\n",
    "    df_excel_2 = df_excel_2.drop('Unnamed: 2', axis=1)\n",
    "    cleaned_excel_grantee = df_excel_2.iloc[7:28,:]\n",
    "    \n",
    "    cleaned_excel_grantee.reset_index(drop=True, inplace=True)\n",
    "    cleaned_excel_grantee = df2.drop(cleaned_excel_grantee.loc[cleaned_excel_grantee.index==4].index)\n",
    "    cleaned_excel_grantee = df2.drop(cleaned_excel_grantee.loc[cleaned_excel_grantee.index==5].index)\n",
    "    cleaned_excel_grantee = df2.drop(cleaned_excel_grantee.loc[cleaned_excel_grantee.index==11].index)\n",
    "    cleaned_excel_grantee = df2.drop(cleaned_excel_grantee.loc[cleaned_excel_grantee.index==12].index)\n",
    "    cleaned_excel_grantee = df2.drop(cleaned_excel_grantee.loc[cleaned_excel_grantee.index==13].index)\n",
    "    cleaned_excel_grantee = df2.drop(cleaned_excel_grantee.loc[cleaned_excel_grantee.index==14].index)\n",
    "    cleaned_excel_grantee = df2.drop(cleaned_excel_grantee.loc[cleaned_excel_grantee.index==15].index)\n",
    "    cleaned_excel_grantee.reset_index(drop=True, inplace=True)\n",
    "    cleaned_excel_grantee.rename(columns={2022: \"Amount\"}, inplace=True)\n",
    "    return cleaned_excel_grantee"
   ]
  },
  {
   "cell_type": "code",
   "execution_count": 224,
   "id": "9e1e076d",
   "metadata": {},
   "outputs": [],
   "source": [
    "def clean_excel_df2(file):\n",
    "    df_excel_2 = pd.read_excel((file), skiprows=[0,1,2,3,4,5,6,7])\n",
    "    df_excel_2.columns = df_excel_2.columns.fillna('type')\n",
    "    df_excel_2.rename(columns={\"type\": \"2018\"}, inplace=True)\n",
    "    df_excel_2.rename(columns={\"nan.1\": \"2019\"}, inplace=True)\n",
    "    df_excel_2.rename(columns={\"nan.2\": \"2020\"}, inplace=True)\n",
    "    df_excel_2.rename(columns={\"nan.3\": \"2021\"}, inplace=True)\n",
    "    \n",
    "    df_excel_2 = df_excel_2.drop('Unnamed: 1', axis=1)\n",
    "    df_excel_2 = df_excel_2.drop('Unnamed: 2', axis=1)\n",
    "    cleaned_excel_grantee = df_excel_2.iloc[7:28,:]\n",
    "    \n",
    "    cleaned_excel_grantee.reset_index(drop=True, inplace=True)\n",
    "    cleaned_excel_grantee = df2.drop('2018', axis=1)\n",
    "    cleaned_excel_grantee = df2.drop('2019', axis=1)\n",
    "    cleaned_excel_grantee = df2.drop('2020', axis=1)\n",
    "    cleaned_excel_grantee = df2.drop('2021', axis=1)\n",
    "    cleaned_excel_grantee = df2.drop(cleaned_excel_grantee.loc[cleaned_excel_grantee.index==4].index)\n",
    "    cleaned_excel_grantee = df2.drop(cleaned_excel_grantee.loc[cleaned_excel_grantee.index==5].index)\n",
    "    cleaned_excel_grantee = df2.drop(cleaned_excel_grantee.loc[cleaned_excel_grantee.index==11].index)\n",
    "    cleaned_excel_grantee = df2.drop(cleaned_excel_grantee.loc[cleaned_excel_grantee.index==12].index)\n",
    "    cleaned_excel_grantee = df2.drop(cleaned_excel_grantee.loc[cleaned_excel_grantee.index==13].index)\n",
    "    cleaned_excel_grantee = df2.drop(cleaned_excel_grantee.loc[cleaned_excel_grantee.index==14].index)\n",
    "    cleaned_excel_grantee = df2.drop(cleaned_excel_grantee.loc[cleaned_excel_grantee.index==15].index)\n",
    "    cleaned_excel_grantee.reset_index(drop=True, inplace=True)\n",
    "    cleaned_excel_grantee.rename(columns={2022: \"Amount\"}, inplace=True)\n",
    "    return cleaned_excel_grantee"
   ]
  },
  {
   "cell_type": "markdown",
   "id": "5ed562ee",
   "metadata": {},
   "source": [
    "# Gives a dictionary with 26 datasets for each municipality, with CDBG data"
   ]
  },
  {
   "cell_type": "code",
   "execution_count": 221,
   "id": "f84c308c",
   "metadata": {},
   "outputs": [],
   "source": [
    "cdbg_dict = {}\n",
    "def cdbg_data():\n",
    "\n",
    "    dirname = '/Users/samielzengotita/Documents/IRONHACK/PROYECT/Real_Estate/EXCEL FILES'\n",
    "    ext = ('.xlsx')\n",
    "    \n",
    "\n",
    "    \n",
    "    for file in os.scandir(dirname):\n",
    "        if file.path.endswith(ext):\n",
    "            municipality_name = os.path.splitext(file.name)[0]  # Extracting the municipality name from the file name\n",
    "            df_cdbg_data = clean_excel_df1(file)\n",
    "            cdbg_dict[municipality_name] = df_cdbg_data\n",
    "    \n",
    "    # Now df_dict contains 26 DataFrames, each with a unique title (municipality name)\n",
    "    # You can access each DataFrame using df_dict['municipality_name']"
   ]
  },
  {
   "cell_type": "markdown",
   "id": "0375554e",
   "metadata": {},
   "source": [
    "# Gives a dictionary with 26 datasets for each municipality, with grantee data"
   ]
  },
  {
   "cell_type": "code",
   "execution_count": 225,
   "id": "c24f9d76",
   "metadata": {},
   "outputs": [],
   "source": [
    "grant_dict = {}\n",
    "def grant_data():\n",
    "\n",
    "    dirname = '/Users/samielzengotita/Documents/IRONHACK/PROYECT/Real_Estate/EXCEL FILES'\n",
    "    ext = ('.xlsx')\n",
    "    \n",
    "    for file in os.scandir(dirname):\n",
    "        if file.path.endswith(ext):\n",
    "            municipality_name = os.path.splitext(file.name)[0]  # Extracting the municipality name from the file name\n",
    "            df_grant_data = clean_excel_df2(file)\n",
    "            grant_dict[municipality_name] = df_grant_data\n",
    "    \n",
    "    # Now df_dict contains 26 DataFrames, each with a unique title (municipality name)\n",
    "    # You can access each DataFrame using df_dict['municipality_name']"
   ]
  },
  {
   "cell_type": "markdown",
   "id": "c754d2dc",
   "metadata": {},
   "source": [
    "# Returns a list where you can copy the municipality to call upon any of the 26 datasets created."
   ]
  },
  {
   "cell_type": "code",
   "execution_count": 206,
   "id": "ea5b3851",
   "metadata": {},
   "outputs": [],
   "source": [
    "def muni_copy():\n",
    "\n",
    "    muni_copy_list = []\n",
    "    for key,value in df_dict.items():\n",
    "        muni_copy.append(key)\n",
    "    muni_copy_list"
   ]
  },
  {
   "cell_type": "markdown",
   "id": "d85da6a5",
   "metadata": {},
   "source": [
    "# Webscraping - Gathers mortgage data."
   ]
  },
  {
   "cell_type": "code",
   "execution_count": 207,
   "id": "d0fc1fc8",
   "metadata": {},
   "outputs": [],
   "source": [
    "def get_fha_snapshots(): \n",
    "    i = 5\n",
    "    while i == 5:\n",
    "        for j in range(1,13):\n",
    "            site_input = driver.find_element(By.CSS_SELECTOR,f'#block-system-main > div > div:nth-child(1) > div > div > div > div > div > div > div > div > div.genlink > ul:nth-child({i}) > li:nth-child({j}) > a')\n",
    "            site_input.click()\n",
    "            time.sleep(2)\n",
    "        i = 7\n",
    "    else:\n",
    "        for j in range(1,49):\n",
    "            site_input = driver.find_element(By.CSS_SELECTOR,f'#block-system-main > div > div:nth-child(1) > div > div > div > div > div > div > div > div > div.genlink > ul:nth-child({i}) > li:nth-child({j}) > a')\n",
    "            site_input.click()\n",
    "            time.sleep(2)"
   ]
  },
  {
   "cell_type": "markdown",
   "id": "6e882c31",
   "metadata": {},
   "source": [
    "# Cleans names of mortgage data excel files."
   ]
  },
  {
   "cell_type": "code",
   "execution_count": 199,
   "id": "cbc394e4",
   "metadata": {},
   "outputs": [],
   "source": [
    "def rename_fha_snapshots():\n",
    "    \n",
    "    dirname = '/Users/samielzengotita/Documents/IRONHACK/PROYECT/Real_Estate/FHA SNAPSHOTS'\n",
    "    \n",
    "    for file in os.scandir(dirname):\n",
    "        if file.name.startswith('FHA_SFSnapshot_'):\n",
    "            os.rename(f'{file.path}', f\"{file.path.replace('FHA_SFSnapshot_','')}\")\n",
    "            \n",
    "    for file in os.scandir(dirname):\n",
    "        if file.name.startswith('FHA_SFSnapshot Forward_'):\n",
    "            os.rename(f'{file.path}', f\"{file.path.replace('FHA_SFSnapshot Forward_','')}\")\n",
    "            \n",
    "    for file in os.scandir(dirname):\n",
    "        if file.name.startswith('FHA_SFSnapshotForward_'):\n",
    "            os.rename(f'{file.path}', f\"{file.path.replace('FHA_SFSnapshotForward_','')}\")\n",
    "            \n",
    "    for file in os.scandir(dirname):\n",
    "        if file.name.startswith('FHA_Snapshot_'):\n",
    "            os.rename(f'{file.path}', f\"{file.path.replace('FHA_Snapshot_','')}\")\n",
    "            \n",
    "    for file in os.scandir(dirname):\n",
    "        if file.name.startswith('FHASFSnapshotForward_'):\n",
    "            os.rename(f'{file.path}', f\"{file.path.replace('FHASFSnapshotForward_','')}\")\n",
    "            \n",
    "    for file in os.scandir(dirname):\n",
    "        if file.name.startswith('FHASFSnapshot_'):\n",
    "            os.rename(f'{file.path}', f\"{file.path.replace('FHASFSnapshot_','')}\")\n",
    "    \n",
    "    for file in os.scandir(dirname):\n",
    "        if file.name.endswith('_New.xlsx'):\n",
    "            os.rename(f'{file.path}', f\"{file.path.replace('_New','')}\")\n",
    "    \n",
    "    for file in os.scandir(dirname):\n",
    "        if file.name.endswith('..xlsx'):\n",
    "            os.rename(f'{file.path}', f\"{file.path.replace('..xlsx','.xlsx')}\")"
   ]
  },
  {
   "cell_type": "markdown",
   "id": "0a959825",
   "metadata": {},
   "source": [
    "# Returns interest rate average for each year (2018-2022) and average for mortgage amount."
   ]
  },
  {
   "cell_type": "code",
   "execution_count": 170,
   "id": "0b3187f3",
   "metadata": {},
   "outputs": [
    {
     "name": "stdout",
     "output_type": "stream",
     "text": [
      "   Year  Interest Rate Average\n",
      "0  2018               4.761655\n",
      "1  2020               3.428575\n",
      "2  2022               4.813071\n",
      "3  2021               3.106356\n",
      "4  2019               4.469297\n",
      "   Year  Original Mortgage Amount Average\n",
      "0  2018                     208301.660673\n",
      "1  2020                     233863.245727\n",
      "2  2022                     279608.412571\n",
      "3  2021                     253369.659493\n",
      "4  2019                     217821.891821\n"
     ]
    }
   ],
   "source": [
    "interest_rate_avg = {}\n",
    "original_mortgage_amount_avg = {}\n",
    "\n",
    "def mortgage_avg():\n",
    "\n",
    "    directory_path = '/Users/samielzengotita/Documents/IRONHACK/PROYECT/Real_Estate/FHA SNAPSHOTS'\n",
    "    \n",
    "    \n",
    "    # Loop through each file in the directory\n",
    "    for filename in os.listdir(directory_path):\n",
    "        if filename.endswith(\".xlsx\"):  \n",
    "            \n",
    "            year = filename[-9:-5]\n",
    "            \n",
    "            \n",
    "            df = pd.read_excel(os.path.join(directory_path, filename), sheet_name=2)  \n",
    "            \n",
    "            \n",
    "            df['Interest Rate'] = pd.to_numeric(df['Interest Rate'], errors='coerce')\n",
    "            df['Original Mortgage Amount'] = pd.to_numeric(df['Original Mortgage Amount'], errors='coerce')\n",
    "            \n",
    "            \n",
    "            df = df.iloc[1:]\n",
    "            \n",
    "            \n",
    "            if year not in interest_rate_avg:\n",
    "                interest_rate_avg[year] = []\n",
    "            interest_rate_avg[year].append(df['Interest Rate'].mean())\n",
    "            \n",
    "            if year not in original_mortgage_amount_avg:\n",
    "                original_mortgage_amount_avg[year] = []\n",
    "            original_mortgage_amount_avg[year].append(df['Original Mortgage Amount'].mean())\n",
    "    \n",
    "    \n",
    "    interest_rate_df = pd.DataFrame([(year, sum(avg_list) / len(avg_list)) for year, avg_list in interest_rate_avg.items()], columns=['Year', 'Interest Rate Average'])\n",
    "    original_mortgage_amount_df = pd.DataFrame([(year, sum(avg_list) / len(avg_list)) for year, avg_list in original_mortgage_amount_avg.items()], columns=['Year', 'Original Mortgage Amount Average'])\n",
    "    \n",
    "    \n",
    "    print(interest_rate_df)\n",
    "    print(original_mortgage_amount_df)"
   ]
  },
  {
   "cell_type": "markdown",
   "id": "59b7639c",
   "metadata": {},
   "source": [
    "# AUTOMATING CODE <3"
   ]
  },
  {
   "cell_type": "code",
   "execution_count": 62,
   "id": "b232a2e8",
   "metadata": {
    "collapsed": true
   },
   "outputs": [
    {
     "ename": "KeyError",
     "evalue": "\"['2018'] not found in axis\"",
     "output_type": "error",
     "traceback": [
      "\u001b[0;31m---------------------------------------------------------------------------\u001b[0m",
      "\u001b[0;31mKeyError\u001b[0m                                  Traceback (most recent call last)",
      "Cell \u001b[0;32mIn[62], line 14\u001b[0m\n\u001b[1;32m     12\u001b[0m \u001b[38;5;28mlist\u001b[39m(\u001b[38;5;28mmap\u001b[39m(download_data, municipios_func()))\n\u001b[1;32m     13\u001b[0m grant_data()\n\u001b[0;32m---> 14\u001b[0m cdbg_data()\n\u001b[1;32m     15\u001b[0m muni_copy()\n",
      "Cell \u001b[0;32mIn[58], line 11\u001b[0m, in \u001b[0;36mcdbg_data\u001b[0;34m()\u001b[0m\n\u001b[1;32m      9\u001b[0m \u001b[38;5;28;01mif\u001b[39;00m file\u001b[38;5;241m.\u001b[39mpath\u001b[38;5;241m.\u001b[39mendswith(ext):\n\u001b[1;32m     10\u001b[0m     municipality_name \u001b[38;5;241m=\u001b[39m os\u001b[38;5;241m.\u001b[39mpath\u001b[38;5;241m.\u001b[39msplitext(file\u001b[38;5;241m.\u001b[39mname)[\u001b[38;5;241m0\u001b[39m]  \u001b[38;5;66;03m# Extracting the municipality name from the file name\u001b[39;00m\n\u001b[0;32m---> 11\u001b[0m     df \u001b[38;5;241m=\u001b[39m clean_excel_df2(file)\n\u001b[1;32m     12\u001b[0m     df_dict_2[municipality_name] \u001b[38;5;241m=\u001b[39m df\n",
      "Cell \u001b[0;32mIn[56], line 14\u001b[0m, in \u001b[0;36mclean_excel_df2\u001b[0;34m(file)\u001b[0m\n\u001b[1;32m     11\u001b[0m df2 \u001b[38;5;241m=\u001b[39m df\u001b[38;5;241m.\u001b[39miloc[\u001b[38;5;241m7\u001b[39m:\u001b[38;5;241m28\u001b[39m,:]\n\u001b[1;32m     13\u001b[0m df2\u001b[38;5;241m.\u001b[39mreset_index(drop\u001b[38;5;241m=\u001b[39m\u001b[38;5;28;01mTrue\u001b[39;00m, inplace\u001b[38;5;241m=\u001b[39m\u001b[38;5;28;01mTrue\u001b[39;00m)\n\u001b[0;32m---> 14\u001b[0m df2 \u001b[38;5;241m=\u001b[39m df2\u001b[38;5;241m.\u001b[39mdrop(\u001b[38;5;124m'\u001b[39m\u001b[38;5;124m2018\u001b[39m\u001b[38;5;124m'\u001b[39m, axis\u001b[38;5;241m=\u001b[39m\u001b[38;5;241m1\u001b[39m)\n\u001b[1;32m     15\u001b[0m df2 \u001b[38;5;241m=\u001b[39m df2\u001b[38;5;241m.\u001b[39mdrop(\u001b[38;5;124m'\u001b[39m\u001b[38;5;124m2019\u001b[39m\u001b[38;5;124m'\u001b[39m, axis\u001b[38;5;241m=\u001b[39m\u001b[38;5;241m1\u001b[39m)\n\u001b[1;32m     16\u001b[0m df2 \u001b[38;5;241m=\u001b[39m df2\u001b[38;5;241m.\u001b[39mdrop(\u001b[38;5;124m'\u001b[39m\u001b[38;5;124m2020\u001b[39m\u001b[38;5;124m'\u001b[39m, axis\u001b[38;5;241m=\u001b[39m\u001b[38;5;241m1\u001b[39m)\n",
      "File \u001b[0;32m~/anaconda3/lib/python3.11/site-packages/pandas/core/frame.py:5258\u001b[0m, in \u001b[0;36mDataFrame.drop\u001b[0;34m(self, labels, axis, index, columns, level, inplace, errors)\u001b[0m\n\u001b[1;32m   5110\u001b[0m \u001b[38;5;28;01mdef\u001b[39;00m \u001b[38;5;21mdrop\u001b[39m(\n\u001b[1;32m   5111\u001b[0m     \u001b[38;5;28mself\u001b[39m,\n\u001b[1;32m   5112\u001b[0m     labels: IndexLabel \u001b[38;5;241m=\u001b[39m \u001b[38;5;28;01mNone\u001b[39;00m,\n\u001b[0;32m   (...)\u001b[0m\n\u001b[1;32m   5119\u001b[0m     errors: IgnoreRaise \u001b[38;5;241m=\u001b[39m \u001b[38;5;124m\"\u001b[39m\u001b[38;5;124mraise\u001b[39m\u001b[38;5;124m\"\u001b[39m,\n\u001b[1;32m   5120\u001b[0m ) \u001b[38;5;241m-\u001b[39m\u001b[38;5;241m>\u001b[39m DataFrame \u001b[38;5;241m|\u001b[39m \u001b[38;5;28;01mNone\u001b[39;00m:\n\u001b[1;32m   5121\u001b[0m \u001b[38;5;250m    \u001b[39m\u001b[38;5;124;03m\"\"\"\u001b[39;00m\n\u001b[1;32m   5122\u001b[0m \u001b[38;5;124;03m    Drop specified labels from rows or columns.\u001b[39;00m\n\u001b[1;32m   5123\u001b[0m \n\u001b[0;32m   (...)\u001b[0m\n\u001b[1;32m   5256\u001b[0m \u001b[38;5;124;03m            weight  1.0     0.8\u001b[39;00m\n\u001b[1;32m   5257\u001b[0m \u001b[38;5;124;03m    \"\"\"\u001b[39;00m\n\u001b[0;32m-> 5258\u001b[0m     \u001b[38;5;28;01mreturn\u001b[39;00m \u001b[38;5;28msuper\u001b[39m()\u001b[38;5;241m.\u001b[39mdrop(\n\u001b[1;32m   5259\u001b[0m         labels\u001b[38;5;241m=\u001b[39mlabels,\n\u001b[1;32m   5260\u001b[0m         axis\u001b[38;5;241m=\u001b[39maxis,\n\u001b[1;32m   5261\u001b[0m         index\u001b[38;5;241m=\u001b[39mindex,\n\u001b[1;32m   5262\u001b[0m         columns\u001b[38;5;241m=\u001b[39mcolumns,\n\u001b[1;32m   5263\u001b[0m         level\u001b[38;5;241m=\u001b[39mlevel,\n\u001b[1;32m   5264\u001b[0m         inplace\u001b[38;5;241m=\u001b[39minplace,\n\u001b[1;32m   5265\u001b[0m         errors\u001b[38;5;241m=\u001b[39merrors,\n\u001b[1;32m   5266\u001b[0m     )\n",
      "File \u001b[0;32m~/anaconda3/lib/python3.11/site-packages/pandas/core/generic.py:4549\u001b[0m, in \u001b[0;36mNDFrame.drop\u001b[0;34m(self, labels, axis, index, columns, level, inplace, errors)\u001b[0m\n\u001b[1;32m   4547\u001b[0m \u001b[38;5;28;01mfor\u001b[39;00m axis, labels \u001b[38;5;129;01min\u001b[39;00m axes\u001b[38;5;241m.\u001b[39mitems():\n\u001b[1;32m   4548\u001b[0m     \u001b[38;5;28;01mif\u001b[39;00m labels \u001b[38;5;129;01mis\u001b[39;00m \u001b[38;5;129;01mnot\u001b[39;00m \u001b[38;5;28;01mNone\u001b[39;00m:\n\u001b[0;32m-> 4549\u001b[0m         obj \u001b[38;5;241m=\u001b[39m obj\u001b[38;5;241m.\u001b[39m_drop_axis(labels, axis, level\u001b[38;5;241m=\u001b[39mlevel, errors\u001b[38;5;241m=\u001b[39merrors)\n\u001b[1;32m   4551\u001b[0m \u001b[38;5;28;01mif\u001b[39;00m inplace:\n\u001b[1;32m   4552\u001b[0m     \u001b[38;5;28mself\u001b[39m\u001b[38;5;241m.\u001b[39m_update_inplace(obj)\n",
      "File \u001b[0;32m~/anaconda3/lib/python3.11/site-packages/pandas/core/generic.py:4591\u001b[0m, in \u001b[0;36mNDFrame._drop_axis\u001b[0;34m(self, labels, axis, level, errors, only_slice)\u001b[0m\n\u001b[1;32m   4589\u001b[0m         new_axis \u001b[38;5;241m=\u001b[39m axis\u001b[38;5;241m.\u001b[39mdrop(labels, level\u001b[38;5;241m=\u001b[39mlevel, errors\u001b[38;5;241m=\u001b[39merrors)\n\u001b[1;32m   4590\u001b[0m     \u001b[38;5;28;01melse\u001b[39;00m:\n\u001b[0;32m-> 4591\u001b[0m         new_axis \u001b[38;5;241m=\u001b[39m axis\u001b[38;5;241m.\u001b[39mdrop(labels, errors\u001b[38;5;241m=\u001b[39merrors)\n\u001b[1;32m   4592\u001b[0m     indexer \u001b[38;5;241m=\u001b[39m axis\u001b[38;5;241m.\u001b[39mget_indexer(new_axis)\n\u001b[1;32m   4594\u001b[0m \u001b[38;5;66;03m# Case for non-unique axis\u001b[39;00m\n\u001b[1;32m   4595\u001b[0m \u001b[38;5;28;01melse\u001b[39;00m:\n",
      "File \u001b[0;32m~/anaconda3/lib/python3.11/site-packages/pandas/core/indexes/base.py:6699\u001b[0m, in \u001b[0;36mIndex.drop\u001b[0;34m(self, labels, errors)\u001b[0m\n\u001b[1;32m   6697\u001b[0m \u001b[38;5;28;01mif\u001b[39;00m mask\u001b[38;5;241m.\u001b[39many():\n\u001b[1;32m   6698\u001b[0m     \u001b[38;5;28;01mif\u001b[39;00m errors \u001b[38;5;241m!=\u001b[39m \u001b[38;5;124m\"\u001b[39m\u001b[38;5;124mignore\u001b[39m\u001b[38;5;124m\"\u001b[39m:\n\u001b[0;32m-> 6699\u001b[0m         \u001b[38;5;28;01mraise\u001b[39;00m \u001b[38;5;167;01mKeyError\u001b[39;00m(\u001b[38;5;124mf\u001b[39m\u001b[38;5;124m\"\u001b[39m\u001b[38;5;132;01m{\u001b[39;00m\u001b[38;5;28mlist\u001b[39m(labels[mask])\u001b[38;5;132;01m}\u001b[39;00m\u001b[38;5;124m not found in axis\u001b[39m\u001b[38;5;124m\"\u001b[39m)\n\u001b[1;32m   6700\u001b[0m     indexer \u001b[38;5;241m=\u001b[39m indexer[\u001b[38;5;241m~\u001b[39mmask]\n\u001b[1;32m   6701\u001b[0m \u001b[38;5;28;01mreturn\u001b[39;00m \u001b[38;5;28mself\u001b[39m\u001b[38;5;241m.\u001b[39mdelete(indexer)\n",
      "\u001b[0;31mKeyError\u001b[0m: \"['2018'] not found in axis\""
     ]
    }
   ],
   "source": [
    "# options = webdriver.ChromeOptions()\n",
    "# prefs = {\n",
    "#     \"download.default_directory\": \"/Users/samielzengotita/Documents/IRONHACK/PROYECT/Real_Estate/EXCEL FILES\",\n",
    "#     \"download.directory_upgrade\": True,\n",
    "#     \"download.prompt_for_download\": False,\n",
    "# }\n",
    "# options.add_experimental_option(\"prefs\", prefs)\n",
    "# \n",
    "# driver = webdriver.Chrome(options=options)\n",
    "# driver.get('https://egis.hud.gov/cpdmaps/')\n",
    "#     \n",
    "# list(map(download_data, municipios_func()))"
   ]
  },
  {
   "cell_type": "code",
   "execution_count": 234,
   "id": "c6949a6f",
   "metadata": {},
   "outputs": [],
   "source": [
    "cdbg_data()\n",
    "grant_data()"
   ]
  },
  {
   "cell_type": "code",
   "execution_count": 121,
   "id": "83463b7f",
   "metadata": {},
   "outputs": [],
   "source": [
    "# options = webdriver.ChromeOptions()\n",
    "# prefs = {\n",
    "#     \"download.default_directory\": '/Users/samielzengotita/Documents/IRONHACK/PROYECT/Real_Estate/FHA SNAPSHOTS',\n",
    "#     \"download.directory_upgrade\": True,\n",
    "#     \"download.prompt_for_download\": False,\n",
    "# }\n",
    "# options.add_experimental_option(\"prefs\", prefs)\n",
    "# \n",
    "# driver = webdriver.Chrome(options=options)\n",
    "# driver.get('https://www.hud.gov/program_offices/housing/rmra/oe/rpts/sfsnap/sfsnap')\n",
    "#     \n",
    "# get_fha_snapshots()"
   ]
  },
  {
   "cell_type": "code",
   "execution_count": null,
   "id": "b5905820",
   "metadata": {},
   "outputs": [],
   "source": [
    "rename_fha_snapshots()"
   ]
  },
  {
   "cell_type": "code",
   "execution_count": 171,
   "id": "7d116a63",
   "metadata": {},
   "outputs": [
    {
     "data": {
      "text/html": [
       "<div>\n",
       "<style scoped>\n",
       "    .dataframe tbody tr th:only-of-type {\n",
       "        vertical-align: middle;\n",
       "    }\n",
       "\n",
       "    .dataframe tbody tr th {\n",
       "        vertical-align: top;\n",
       "    }\n",
       "\n",
       "    .dataframe thead th {\n",
       "        text-align: right;\n",
       "    }\n",
       "</style>\n",
       "<table border=\"1\" class=\"dataframe\">\n",
       "  <thead>\n",
       "    <tr style=\"text-align: right;\">\n",
       "      <th></th>\n",
       "      <th>Year</th>\n",
       "      <th>Interest Rate Average</th>\n",
       "    </tr>\n",
       "  </thead>\n",
       "  <tbody>\n",
       "    <tr>\n",
       "      <th>0</th>\n",
       "      <td>2018</td>\n",
       "      <td>4.761655</td>\n",
       "    </tr>\n",
       "    <tr>\n",
       "      <th>1</th>\n",
       "      <td>2020</td>\n",
       "      <td>3.428575</td>\n",
       "    </tr>\n",
       "    <tr>\n",
       "      <th>2</th>\n",
       "      <td>2022</td>\n",
       "      <td>4.813071</td>\n",
       "    </tr>\n",
       "    <tr>\n",
       "      <th>3</th>\n",
       "      <td>2021</td>\n",
       "      <td>3.106356</td>\n",
       "    </tr>\n",
       "    <tr>\n",
       "      <th>4</th>\n",
       "      <td>2019</td>\n",
       "      <td>4.469297</td>\n",
       "    </tr>\n",
       "  </tbody>\n",
       "</table>\n",
       "</div>"
      ],
      "text/plain": [
       "   Year  Interest Rate Average\n",
       "0  2018               4.761655\n",
       "1  2020               3.428575\n",
       "2  2022               4.813071\n",
       "3  2021               3.106356\n",
       "4  2019               4.469297"
      ]
     },
     "execution_count": 171,
     "metadata": {},
     "output_type": "execute_result"
    }
   ],
   "source": [
    "interest_rate_df"
   ]
  },
  {
   "cell_type": "code",
   "execution_count": 172,
   "id": "99ab87a8",
   "metadata": {},
   "outputs": [
    {
     "data": {
      "text/html": [
       "<div>\n",
       "<style scoped>\n",
       "    .dataframe tbody tr th:only-of-type {\n",
       "        vertical-align: middle;\n",
       "    }\n",
       "\n",
       "    .dataframe tbody tr th {\n",
       "        vertical-align: top;\n",
       "    }\n",
       "\n",
       "    .dataframe thead th {\n",
       "        text-align: right;\n",
       "    }\n",
       "</style>\n",
       "<table border=\"1\" class=\"dataframe\">\n",
       "  <thead>\n",
       "    <tr style=\"text-align: right;\">\n",
       "      <th></th>\n",
       "      <th>Year</th>\n",
       "      <th>Original Mortgage Amount Average</th>\n",
       "    </tr>\n",
       "  </thead>\n",
       "  <tbody>\n",
       "    <tr>\n",
       "      <th>0</th>\n",
       "      <td>2018</td>\n",
       "      <td>208301.660673</td>\n",
       "    </tr>\n",
       "    <tr>\n",
       "      <th>1</th>\n",
       "      <td>2020</td>\n",
       "      <td>233863.245727</td>\n",
       "    </tr>\n",
       "    <tr>\n",
       "      <th>2</th>\n",
       "      <td>2022</td>\n",
       "      <td>279608.412571</td>\n",
       "    </tr>\n",
       "    <tr>\n",
       "      <th>3</th>\n",
       "      <td>2021</td>\n",
       "      <td>253369.659493</td>\n",
       "    </tr>\n",
       "    <tr>\n",
       "      <th>4</th>\n",
       "      <td>2019</td>\n",
       "      <td>217821.891821</td>\n",
       "    </tr>\n",
       "  </tbody>\n",
       "</table>\n",
       "</div>"
      ],
      "text/plain": [
       "   Year  Original Mortgage Amount Average\n",
       "0  2018                     208301.660673\n",
       "1  2020                     233863.245727\n",
       "2  2022                     279608.412571\n",
       "3  2021                     253369.659493\n",
       "4  2019                     217821.891821"
      ]
     },
     "execution_count": 172,
     "metadata": {},
     "output_type": "execute_result"
    }
   ],
   "source": [
    "original_mortgage_amount_df"
   ]
  },
  {
   "cell_type": "code",
   "execution_count": 173,
   "id": "29e56fb0",
   "metadata": {},
   "outputs": [
    {
     "data": {
      "text/html": [
       "<div>\n",
       "<style scoped>\n",
       "    .dataframe tbody tr th:only-of-type {\n",
       "        vertical-align: middle;\n",
       "    }\n",
       "\n",
       "    .dataframe tbody tr th {\n",
       "        vertical-align: top;\n",
       "    }\n",
       "\n",
       "    .dataframe thead th {\n",
       "        text-align: right;\n",
       "    }\n",
       "</style>\n",
       "<table border=\"1\" class=\"dataframe\">\n",
       "  <thead>\n",
       "    <tr style=\"text-align: right;\">\n",
       "      <th></th>\n",
       "      <th>Year</th>\n",
       "      <th>Interest Rate Average</th>\n",
       "    </tr>\n",
       "  </thead>\n",
       "  <tbody>\n",
       "    <tr>\n",
       "      <th>0</th>\n",
       "      <td>2018</td>\n",
       "      <td>4.761655</td>\n",
       "    </tr>\n",
       "    <tr>\n",
       "      <th>4</th>\n",
       "      <td>2019</td>\n",
       "      <td>4.469297</td>\n",
       "    </tr>\n",
       "    <tr>\n",
       "      <th>1</th>\n",
       "      <td>2020</td>\n",
       "      <td>3.428575</td>\n",
       "    </tr>\n",
       "    <tr>\n",
       "      <th>3</th>\n",
       "      <td>2021</td>\n",
       "      <td>3.106356</td>\n",
       "    </tr>\n",
       "    <tr>\n",
       "      <th>2</th>\n",
       "      <td>2022</td>\n",
       "      <td>4.813071</td>\n",
       "    </tr>\n",
       "  </tbody>\n",
       "</table>\n",
       "</div>"
      ],
      "text/plain": [
       "   Year  Interest Rate Average\n",
       "0  2018               4.761655\n",
       "4  2019               4.469297\n",
       "1  2020               3.428575\n",
       "3  2021               3.106356\n",
       "2  2022               4.813071"
      ]
     },
     "execution_count": 173,
     "metadata": {},
     "output_type": "execute_result"
    }
   ],
   "source": [
    "sorted_interest = interest_rate_df.sort_values(by='Year')\n",
    "sorted_interest"
   ]
  },
  {
   "cell_type": "code",
   "execution_count": 174,
   "id": "ce13fc99",
   "metadata": {},
   "outputs": [
    {
     "data": {
      "text/html": [
       "<div>\n",
       "<style scoped>\n",
       "    .dataframe tbody tr th:only-of-type {\n",
       "        vertical-align: middle;\n",
       "    }\n",
       "\n",
       "    .dataframe tbody tr th {\n",
       "        vertical-align: top;\n",
       "    }\n",
       "\n",
       "    .dataframe thead th {\n",
       "        text-align: right;\n",
       "    }\n",
       "</style>\n",
       "<table border=\"1\" class=\"dataframe\">\n",
       "  <thead>\n",
       "    <tr style=\"text-align: right;\">\n",
       "      <th></th>\n",
       "      <th>Year</th>\n",
       "      <th>Original Mortgage Amount Average</th>\n",
       "    </tr>\n",
       "  </thead>\n",
       "  <tbody>\n",
       "    <tr>\n",
       "      <th>0</th>\n",
       "      <td>2018</td>\n",
       "      <td>208301.660673</td>\n",
       "    </tr>\n",
       "    <tr>\n",
       "      <th>4</th>\n",
       "      <td>2019</td>\n",
       "      <td>217821.891821</td>\n",
       "    </tr>\n",
       "    <tr>\n",
       "      <th>1</th>\n",
       "      <td>2020</td>\n",
       "      <td>233863.245727</td>\n",
       "    </tr>\n",
       "    <tr>\n",
       "      <th>3</th>\n",
       "      <td>2021</td>\n",
       "      <td>253369.659493</td>\n",
       "    </tr>\n",
       "    <tr>\n",
       "      <th>2</th>\n",
       "      <td>2022</td>\n",
       "      <td>279608.412571</td>\n",
       "    </tr>\n",
       "  </tbody>\n",
       "</table>\n",
       "</div>"
      ],
      "text/plain": [
       "   Year  Original Mortgage Amount Average\n",
       "0  2018                     208301.660673\n",
       "4  2019                     217821.891821\n",
       "1  2020                     233863.245727\n",
       "3  2021                     253369.659493\n",
       "2  2022                     279608.412571"
      ]
     },
     "execution_count": 174,
     "metadata": {},
     "output_type": "execute_result"
    }
   ],
   "source": [
    "sorted_mortgage = original_mortgage_amount_df.sort_values(by='Year')\n",
    "sorted_mortgage"
   ]
  }
 ],
 "metadata": {
  "kernelspec": {
   "display_name": "Python 3 (ipykernel)",
   "language": "python",
   "name": "python3"
  },
  "language_info": {
   "codemirror_mode": {
    "name": "ipython",
    "version": 3
   },
   "file_extension": ".py",
   "mimetype": "text/x-python",
   "name": "python",
   "nbconvert_exporter": "python",
   "pygments_lexer": "ipython3",
   "version": "3.11.5"
  },
  "toc": {
   "base_numbering": 1,
   "nav_menu": {},
   "number_sections": true,
   "sideBar": true,
   "skip_h1_title": false,
   "title_cell": "Table of Contents",
   "title_sidebar": "Contents",
   "toc_cell": false,
   "toc_position": {},
   "toc_section_display": true,
   "toc_window_display": false
  }
 },
 "nbformat": 4,
 "nbformat_minor": 5
}

{
 "cells": [
  {
   "cell_type": "code",
   "execution_count": 61,
   "id": "309541d3",
   "metadata": {},
   "outputs": [],
   "source": [
    "from selenium import webdriver\n",
    "from selenium.webdriver.common.by import By\n",
    "import time"
   ]
  },
  {
   "cell_type": "code",
   "execution_count": 65,
   "id": "b93c5354",
   "metadata": {},
   "outputs": [],
   "source": [
    "options = webdriver.ChromeOptions()\n",
    "prefs = {\n",
    "    \"download.default_directory\": \"/Users/natalielewis/Desktop/Ironhack/Projects/Real_Estate\",\n",
    "    \"download.directory_upgrade\": True,\n",
    "    \"download.prompt_for_download\": False,\n",
    "}\n",
    "options.add_experimental_option(\"prefs\", prefs)\n",
    "\n",
    "driver = webdriver.Chrome(options=options)\n",
    "driver.get('https://egis.hud.gov/cpdmaps/')"
   ]
  },
  {
   "cell_type": "code",
   "execution_count": 63,
   "id": "c6425535",
   "metadata": {},
   "outputs": [],
   "source": [
    "def download_data(municipio):\n",
    "    \n",
    "    site_input = driver.find_element(By.CSS_SELECTOR,'#searchField')\n",
    "    site_input.clear()\n",
    "    site_input.send_keys(municipio)\n",
    "    button = driver.find_element(By.CSS_SELECTOR,'#searchButton')\n",
    "    button.click()\n",
    "    time.sleep(2)\n",
    "    cdbg = driver.find_element(By.CSS_SELECTOR,'#listOfGranteesFound > option:nth-child(2)')\n",
    "    cdbg.click()\n",
    "    finish = driver.find_element(By.CSS_SELECTOR,'#idChooseGranteeFinishBtn')\n",
    "    finish.click()\n",
    "    time.sleep(2)\n",
    "    export = driver.find_element(By.CSS_SELECTOR,'#exportBtn')\n",
    "    export.click()"
   ]
  },
  {
   "cell_type": "code",
   "execution_count": 50,
   "id": "9cd53bf9",
   "metadata": {},
   "outputs": [
    {
     "data": {
      "text/plain": [
       "[None, None]"
      ]
     },
     "execution_count": 50,
     "metadata": {},
     "output_type": "execute_result"
    }
   ],
   "source": [
    "list(map(download_data, municipios))"
   ]
  },
  {
   "cell_type": "code",
   "execution_count": null,
   "id": "8a959698",
   "metadata": {},
   "outputs": [],
   "source": [
    "#cleaning municipio list "
   ]
  },
  {
   "cell_type": "code",
   "execution_count": 55,
   "id": "252de55a",
   "metadata": {},
   "outputs": [
    {
     "data": {
      "text/plain": [
       "'Adjuntas Aguada Aguadilla Aguas Buenas Aibonito Arecibo Arroyo Añasco Barceloneta Barranquitas Bayamón Cabo Rojo Caguas Camuy Canóvanas Carolina Cataño Cayey Ceiba Ciales Cidra Coamo Comerío Corozal Culebra Dorado Fajardo Florida Guayama Guayanilla Guaynabo Gurabo Guánica Hatillo Hormigueros Humacao Isabela Jayuya Juana Díaz Juncos Lajas Lares Las Marías Las Piedras Loiza Luquillo Manatí Maricao Maunabo Mayagüez Moca Morovis Naguabo Naranjito Orocovis Patillas Peñuelas Ponce Quebradillas Rincón Rio Grande Sabana Grande Salinas San Germán San Juan San Lorenzo San Sebastián Santa Isabel Toa Alta Toa Baja Trujillo Alto Utuado Vega Alta Vega Baja Vieques Villalba Yabucoa Yauco'"
      ]
     },
     "execution_count": 55,
     "metadata": {},
     "output_type": "execute_result"
    }
   ],
   "source": [
    "municipios.replace('\\n',' ')"
   ]
  },
  {
   "cell_type": "code",
   "execution_count": 57,
   "id": "0034b71a",
   "metadata": {},
   "outputs": [],
   "source": [
    "municipios = municipios.split()"
   ]
  },
  {
   "cell_type": "code",
   "execution_count": 58,
   "id": "fe480055",
   "metadata": {},
   "outputs": [
    {
     "data": {
      "text/plain": [
       "95"
      ]
     },
     "execution_count": 58,
     "metadata": {},
     "output_type": "execute_result"
    }
   ],
   "source": [
    "len(municipios)"
   ]
  },
  {
   "cell_type": "code",
   "execution_count": 64,
   "id": "581a2bb9",
   "metadata": {},
   "outputs": [
    {
     "name": "stdout",
     "output_type": "stream",
     "text": [
      "['Adjuntas, PR', 'Aguada, PR', 'Aguadilla, PR', 'Aguas, PR', 'Buenas, PR', 'Aibonito, PR', 'Arecibo, PR', 'Arroyo, PR', 'Añasco, PR', 'Barceloneta, PR', 'Barranquitas, PR', 'Bayamón, PR', 'Cabo, PR', 'Rojo, PR', 'Caguas, PR', 'Camuy, PR', 'Canóvanas, PR', 'Carolina, PR', 'Cataño, PR', 'Cayey, PR', 'Ceiba, PR', 'Ciales, PR', 'Cidra, PR', 'Coamo, PR', 'Comerío, PR', 'Corozal, PR', 'Culebra, PR', 'Dorado, PR', 'Fajardo, PR', 'Florida, PR', 'Guayama, PR', 'Guayanilla, PR', 'Guaynabo, PR', 'Gurabo, PR', 'Guánica, PR', 'Hatillo, PR', 'Hormigueros, PR', 'Humacao, PR', 'Isabela, PR', 'Jayuya, PR', 'Juana, PR', 'Díaz, PR', 'Juncos, PR', 'Lajas, PR', 'Lares, PR', 'Las, PR', 'Marías, PR', 'Las, PR', 'Piedras, PR', 'Loiza, PR', 'Luquillo, PR', 'Manatí, PR', 'Maricao, PR', 'Maunabo, PR', 'Mayagüez, PR', 'Moca, PR', 'Morovis, PR', 'Naguabo, PR', 'Naranjito, PR', 'Orocovis, PR', 'Patillas, PR', 'Peñuelas, PR', 'Ponce, PR', 'Quebradillas, PR', 'Rincón, PR', 'Rio, PR', 'Grande, PR', 'Sabana, PR', 'Grande, PR', 'Salinas, PR', 'San, PR', 'Germán, PR', 'San, PR', 'Juan, PR', 'San, PR', 'Lorenzo, PR', 'San, PR', 'Sebastián, PR', 'Santa, PR', 'Isabel, PR', 'Toa, PR', 'Alta, PR', 'Toa, PR', 'Baja, PR', 'Trujillo, PR', 'Alto, PR', 'Utuado, PR', 'Vega, PR', 'Alta, PR', 'Vega, PR', 'Baja, PR', 'Vieques, PR', 'Villalba, PR', 'Yabucoa, PR', 'Yauco, PR']\n"
     ]
    }
   ],
   "source": [
    "x = []\n",
    "for municipio in municipios:\n",
    "    x.append(municipio + ', PR')\n",
    "print(x)"
   ]
  },
  {
   "cell_type": "code",
   "execution_count": 66,
   "id": "b232a2e8",
   "metadata": {},
   "outputs": [
    {
     "ename": "NoSuchElementException",
     "evalue": "Message: no such element: Unable to locate element: {\"method\":\"css selector\",\"selector\":\"#listOfGranteesFound > option:nth-child(2)\"}\n  (Session info: chrome=120.0.6099.109); For documentation on this error, please visit: https://www.selenium.dev/documentation/webdriver/troubleshooting/errors#no-such-element-exception\nStacktrace:\n0   chromedriver                        0x00000001046ec4cc chromedriver + 4162764\n1   chromedriver                        0x00000001046e4654 chromedriver + 4130388\n2   chromedriver                        0x000000010433bbc0 chromedriver + 293824\n3   chromedriver                        0x0000000104382040 chromedriver + 581696\n4   chromedriver                        0x00000001043c1ab0 chromedriver + 842416\n5   chromedriver                        0x00000001043756bc chromedriver + 530108\n6   chromedriver                        0x0000000104376930 chromedriver + 534832\n7   chromedriver                        0x00000001046b1df8 chromedriver + 3923448\n8   chromedriver                        0x00000001046b63cc chromedriver + 3941324\n9   chromedriver                        0x000000010469a028 chromedriver + 3825704\n10  chromedriver                        0x00000001046b6f2c chromedriver + 3944236\n11  chromedriver                        0x000000010468c6e4 chromedriver + 3770084\n12  chromedriver                        0x00000001046d3970 chromedriver + 4061552\n13  chromedriver                        0x00000001046d3ae8 chromedriver + 4061928\n14  chromedriver                        0x00000001046e42d4 chromedriver + 4129492\n15  libsystem_pthread.dylib             0x000000018ef15034 _pthread_start + 136\n16  libsystem_pthread.dylib             0x000000018ef0fe3c thread_start + 8\n",
     "output_type": "error",
     "traceback": [
      "\u001b[0;31m---------------------------------------------------------------------------\u001b[0m",
      "\u001b[0;31mNoSuchElementException\u001b[0m                    Traceback (most recent call last)",
      "Cell \u001b[0;32mIn[66], line 1\u001b[0m\n\u001b[0;32m----> 1\u001b[0m \u001b[38;5;28mlist\u001b[39m(\u001b[38;5;28mmap\u001b[39m(download_data, x))\n",
      "Cell \u001b[0;32mIn[63], line 9\u001b[0m, in \u001b[0;36mdownload_data\u001b[0;34m(municipio)\u001b[0m\n\u001b[1;32m      7\u001b[0m button\u001b[38;5;241m.\u001b[39mclick()\n\u001b[1;32m      8\u001b[0m time\u001b[38;5;241m.\u001b[39msleep(\u001b[38;5;241m2\u001b[39m)\n\u001b[0;32m----> 9\u001b[0m cdbg \u001b[38;5;241m=\u001b[39m driver\u001b[38;5;241m.\u001b[39mfind_element(By\u001b[38;5;241m.\u001b[39mCSS_SELECTOR,\u001b[38;5;124m'\u001b[39m\u001b[38;5;124m#listOfGranteesFound > option:nth-child(2)\u001b[39m\u001b[38;5;124m'\u001b[39m)\n\u001b[1;32m     10\u001b[0m cdbg\u001b[38;5;241m.\u001b[39mclick()\n\u001b[1;32m     11\u001b[0m finish \u001b[38;5;241m=\u001b[39m driver\u001b[38;5;241m.\u001b[39mfind_element(By\u001b[38;5;241m.\u001b[39mCSS_SELECTOR,\u001b[38;5;124m'\u001b[39m\u001b[38;5;124m#idChooseGranteeFinishBtn\u001b[39m\u001b[38;5;124m'\u001b[39m)\n",
      "File \u001b[0;32m~/anaconda3/lib/python3.11/site-packages/selenium/webdriver/remote/webdriver.py:742\u001b[0m, in \u001b[0;36mWebDriver.find_element\u001b[0;34m(self, by, value)\u001b[0m\n\u001b[1;32m    739\u001b[0m     by \u001b[38;5;241m=\u001b[39m By\u001b[38;5;241m.\u001b[39mCSS_SELECTOR\n\u001b[1;32m    740\u001b[0m     value \u001b[38;5;241m=\u001b[39m \u001b[38;5;124mf\u001b[39m\u001b[38;5;124m'\u001b[39m\u001b[38;5;124m[name=\u001b[39m\u001b[38;5;124m\"\u001b[39m\u001b[38;5;132;01m{\u001b[39;00mvalue\u001b[38;5;132;01m}\u001b[39;00m\u001b[38;5;124m\"\u001b[39m\u001b[38;5;124m]\u001b[39m\u001b[38;5;124m'\u001b[39m\n\u001b[0;32m--> 742\u001b[0m \u001b[38;5;28;01mreturn\u001b[39;00m \u001b[38;5;28mself\u001b[39m\u001b[38;5;241m.\u001b[39mexecute(Command\u001b[38;5;241m.\u001b[39mFIND_ELEMENT, {\u001b[38;5;124m\"\u001b[39m\u001b[38;5;124musing\u001b[39m\u001b[38;5;124m\"\u001b[39m: by, \u001b[38;5;124m\"\u001b[39m\u001b[38;5;124mvalue\u001b[39m\u001b[38;5;124m\"\u001b[39m: value})[\u001b[38;5;124m\"\u001b[39m\u001b[38;5;124mvalue\u001b[39m\u001b[38;5;124m\"\u001b[39m]\n",
      "File \u001b[0;32m~/anaconda3/lib/python3.11/site-packages/selenium/webdriver/remote/webdriver.py:348\u001b[0m, in \u001b[0;36mWebDriver.execute\u001b[0;34m(self, driver_command, params)\u001b[0m\n\u001b[1;32m    346\u001b[0m response \u001b[38;5;241m=\u001b[39m \u001b[38;5;28mself\u001b[39m\u001b[38;5;241m.\u001b[39mcommand_executor\u001b[38;5;241m.\u001b[39mexecute(driver_command, params)\n\u001b[1;32m    347\u001b[0m \u001b[38;5;28;01mif\u001b[39;00m response:\n\u001b[0;32m--> 348\u001b[0m     \u001b[38;5;28mself\u001b[39m\u001b[38;5;241m.\u001b[39merror_handler\u001b[38;5;241m.\u001b[39mcheck_response(response)\n\u001b[1;32m    349\u001b[0m     response[\u001b[38;5;124m\"\u001b[39m\u001b[38;5;124mvalue\u001b[39m\u001b[38;5;124m\"\u001b[39m] \u001b[38;5;241m=\u001b[39m \u001b[38;5;28mself\u001b[39m\u001b[38;5;241m.\u001b[39m_unwrap_value(response\u001b[38;5;241m.\u001b[39mget(\u001b[38;5;124m\"\u001b[39m\u001b[38;5;124mvalue\u001b[39m\u001b[38;5;124m\"\u001b[39m, \u001b[38;5;28;01mNone\u001b[39;00m))\n\u001b[1;32m    350\u001b[0m     \u001b[38;5;28;01mreturn\u001b[39;00m response\n",
      "File \u001b[0;32m~/anaconda3/lib/python3.11/site-packages/selenium/webdriver/remote/errorhandler.py:229\u001b[0m, in \u001b[0;36mErrorHandler.check_response\u001b[0;34m(self, response)\u001b[0m\n\u001b[1;32m    227\u001b[0m         alert_text \u001b[38;5;241m=\u001b[39m value[\u001b[38;5;124m\"\u001b[39m\u001b[38;5;124malert\u001b[39m\u001b[38;5;124m\"\u001b[39m]\u001b[38;5;241m.\u001b[39mget(\u001b[38;5;124m\"\u001b[39m\u001b[38;5;124mtext\u001b[39m\u001b[38;5;124m\"\u001b[39m)\n\u001b[1;32m    228\u001b[0m     \u001b[38;5;28;01mraise\u001b[39;00m exception_class(message, screen, stacktrace, alert_text)  \u001b[38;5;66;03m# type: ignore[call-arg]  # mypy is not smart enough here\u001b[39;00m\n\u001b[0;32m--> 229\u001b[0m \u001b[38;5;28;01mraise\u001b[39;00m exception_class(message, screen, stacktrace)\n",
      "\u001b[0;31mNoSuchElementException\u001b[0m: Message: no such element: Unable to locate element: {\"method\":\"css selector\",\"selector\":\"#listOfGranteesFound > option:nth-child(2)\"}\n  (Session info: chrome=120.0.6099.109); For documentation on this error, please visit: https://www.selenium.dev/documentation/webdriver/troubleshooting/errors#no-such-element-exception\nStacktrace:\n0   chromedriver                        0x00000001046ec4cc chromedriver + 4162764\n1   chromedriver                        0x00000001046e4654 chromedriver + 4130388\n2   chromedriver                        0x000000010433bbc0 chromedriver + 293824\n3   chromedriver                        0x0000000104382040 chromedriver + 581696\n4   chromedriver                        0x00000001043c1ab0 chromedriver + 842416\n5   chromedriver                        0x00000001043756bc chromedriver + 530108\n6   chromedriver                        0x0000000104376930 chromedriver + 534832\n7   chromedriver                        0x00000001046b1df8 chromedriver + 3923448\n8   chromedriver                        0x00000001046b63cc chromedriver + 3941324\n9   chromedriver                        0x000000010469a028 chromedriver + 3825704\n10  chromedriver                        0x00000001046b6f2c chromedriver + 3944236\n11  chromedriver                        0x000000010468c6e4 chromedriver + 3770084\n12  chromedriver                        0x00000001046d3970 chromedriver + 4061552\n13  chromedriver                        0x00000001046d3ae8 chromedriver + 4061928\n14  chromedriver                        0x00000001046e42d4 chromedriver + 4129492\n15  libsystem_pthread.dylib             0x000000018ef15034 _pthread_start + 136\n16  libsystem_pthread.dylib             0x000000018ef0fe3c thread_start + 8\n"
     ]
    }
   ],
   "source": [
    "list(map(download_data, x))"
   ]
  },
  {
   "cell_type": "code",
   "execution_count": null,
   "id": "71f050ca",
   "metadata": {},
   "outputs": [],
   "source": []
  }
 ],
 "metadata": {
  "kernelspec": {
   "display_name": "Python 3 (ipykernel)",
   "language": "python",
   "name": "python3"
  },
  "language_info": {
   "codemirror_mode": {
    "name": "ipython",
    "version": 3
   },
   "file_extension": ".py",
   "mimetype": "text/x-python",
   "name": "python",
   "nbconvert_exporter": "python",
   "pygments_lexer": "ipython3",
   "version": "3.11.5"
  },
  "toc": {
   "base_numbering": 1,
   "nav_menu": {},
   "number_sections": true,
   "sideBar": true,
   "skip_h1_title": false,
   "title_cell": "Table of Contents",
   "title_sidebar": "Contents",
   "toc_cell": false,
   "toc_position": {},
   "toc_section_display": true,
   "toc_window_display": false
  }
 },
 "nbformat": 4,
 "nbformat_minor": 5
}
